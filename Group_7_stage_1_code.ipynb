{
 "cells": [
  {
   "cell_type": "markdown",
   "metadata": {},
   "source": [
    "# <b>ENGR 418 Project Stage 1</b>\n",
    "\n",
    "<b>Group 7 <br>\n",
    "Group Members:</b> <br>\n",
    "Alif Aiman Ahmad Zukiman | 35338490 <br>\n",
    "Anas Chellabi | \n",
    "\n",
    "_October 30, 2023_"
   ]
  },
  {
   "cell_type": "markdown",
   "metadata": {},
   "source": [
    "## Problem Desription\n",
    "We are to classify a Lego dataset into four different classes: 2x4 rectangles, 2x2 squares, 2x2 circles, and 2x1 rectangles. The classified Legos are then sorted according to their predicted classes. This will be done via the multi-class classification algorithm, as presented below."
   ]
  },
  {
   "cell_type": "markdown",
   "metadata": {},
   "source": [
    "### 1. Extracting Data"
   ]
  },
  {
   "cell_type": "markdown",
   "metadata": {},
   "source": [
    "Import necessary libraries:"
   ]
  },
  {
   "cell_type": "code",
   "execution_count": 3,
   "metadata": {},
   "outputs": [],
   "source": [
    "import os                                                       # for recognising path directories\n",
    "import numpy as np  \n",
    "from numpy import asarray\n",
    "import matplotlib.pyplot as plt\n",
    "from sklearn.linear_model import LogisticRegression             # algorithm to be used\n",
    "from sklearn.metrics import confusion_matrix, accuracy_score    # accuracy testing\n",
    "from PIL import Image                                           # image processor"
   ]
  },
  {
   "cell_type": "markdown",
   "metadata": {},
   "source": [
    "Assign arrays of training and testing by redirecting the arrays to the specified paths:"
   ]
  },
  {
   "cell_type": "code",
   "execution_count": 38,
   "metadata": {},
   "outputs": [
    {
     "ename": "TypeError",
     "evalue": "unsupported operand type(s) for +: 'NoneType' and 'str'",
     "output_type": "error",
     "traceback": [
      "\u001b[1;31m---------------------------------------------------------------------------\u001b[0m",
      "\u001b[1;31mTypeError\u001b[0m                                 Traceback (most recent call last)",
      "\u001b[1;32me:\\EDU UBC\\Assignments\\ENGR 418 (MCHL)\\ENGR 418 Github Repo\\engr418_project\\Group_7_stage_1_code.ipynb Cell 7\u001b[0m line \u001b[0;36m8\n\u001b[0;32m      <a href='vscode-notebook-cell:/e%3A/EDU%20UBC/Assignments/ENGR%20418%20%28MCHL%29/ENGR%20418%20Github%20Repo/engr418_project/Group_7_stage_1_code.ipynb#X32sZmlsZQ%3D%3D?line=4'>5</a>\u001b[0m folder_testing \u001b[39m=\u001b[39m [\u001b[39m0\u001b[39m \u001b[39mfor\u001b[39;00m i \u001b[39min\u001b[39;00m \u001b[39mrange\u001b[39m(n_classes)]\n\u001b[0;32m      <a href='vscode-notebook-cell:/e%3A/EDU%20UBC/Assignments/ENGR%20418%20%28MCHL%29/ENGR%20418%20Github%20Repo/engr418_project/Group_7_stage_1_code.ipynb#X32sZmlsZQ%3D%3D?line=5'>6</a>\u001b[0m classes \u001b[39m=\u001b[39m [i \u001b[39mfor\u001b[39;00m i \u001b[39min\u001b[39;00m \u001b[39mrange\u001b[39m(n_classes)]\n\u001b[1;32m----> <a href='vscode-notebook-cell:/e%3A/EDU%20UBC/Assignments/ENGR%20418%20%28MCHL%29/ENGR%20418%20Github%20Repo/engr418_project/Group_7_stage_1_code.ipynb#X32sZmlsZQ%3D%3D?line=7'>8</a>\u001b[0m training_path \u001b[39m=\u001b[39m os\u001b[39m.\u001b[39mchdir(\u001b[39m\"\u001b[39m\u001b[39m..\u001b[39m\u001b[39m\"\u001b[39m) \u001b[39m+\u001b[39m \u001b[39m\"\u001b[39m\u001b[39mLego_dataset_1\u001b[39m\u001b[39m\\\\\u001b[39;00m\u001b[39mtraining\u001b[39m\u001b[39m\"\u001b[39m\n\u001b[0;32m      <a href='vscode-notebook-cell:/e%3A/EDU%20UBC/Assignments/ENGR%20418%20%28MCHL%29/ENGR%20418%20Github%20Repo/engr418_project/Group_7_stage_1_code.ipynb#X32sZmlsZQ%3D%3D?line=8'>9</a>\u001b[0m testing_path \u001b[39m=\u001b[39m os\u001b[39m.\u001b[39mchdir(\u001b[39m\"\u001b[39m\u001b[39m..\u001b[39m\u001b[39m\"\u001b[39m) \u001b[39m+\u001b[39m \u001b[39m\"\u001b[39m\u001b[39mLego_dataset_1\u001b[39m\u001b[39m\\\\\u001b[39;00m\u001b[39mtesting\u001b[39m\u001b[39m\"\u001b[39m\n\u001b[0;32m     <a href='vscode-notebook-cell:/e%3A/EDU%20UBC/Assignments/ENGR%20418%20%28MCHL%29/ENGR%20418%20Github%20Repo/engr418_project/Group_7_stage_1_code.ipynb#X32sZmlsZQ%3D%3D?line=10'>11</a>\u001b[0m \u001b[39m# NEED FIX: the training folder does not divide into different classes\u001b[39;00m\n",
      "\u001b[1;31mTypeError\u001b[0m: unsupported operand type(s) for +: 'NoneType' and 'str'"
     ]
    }
   ],
   "source": [
    "n_classes = 4   # no. of classes\n",
    "\n",
    "# create empty lists for four classes\n",
    "folder_training = [0 for i in range(n_classes)]\n",
    "folder_testing = [0 for i in range(n_classes)]\n",
    "classes = [i for i in range(n_classes)]\n",
    "\n",
    "# dataset file path for Alif\n",
    "training_path = \"E:\\\\EDU UBC\\\\Assignments\\\\ENGR 418 (MCHL)\\\\Lego_dataset_1\\\\training\\\\\" \n",
    "testing_path = \"E:\\\\EDU UBC\\\\Assignments\\\\ENGR 418 (MCHL)\\\\Lego_dataset_1\\\\testing\\\\\" \n",
    "\n",
    "# dataset file path for Anas\n",
    "# training_path = \"insert your path here\" \n",
    "# testing_path = \"insert your path here\"\n",
    "\n",
    "\n"
   ]
  },
  {
   "cell_type": "markdown",
   "metadata": {},
   "source": [
    "Define a function \"get_data\" to retrieve information about the chosen images:"
   ]
  },
  {
   "cell_type": "code",
   "execution_count": 13,
   "metadata": {},
   "outputs": [],
   "source": [
    "def get_data(folder, im_width, label, n_samples):\n",
    "    \n",
    "    file_names = os.listdir(folder)\n",
    "    # print(file_names[0])\n",
    "\n",
    "    # x,y coordinates for storing the image pixels\n",
    "    x = np.empty((n_samples, im_width**2))\n",
    "    y = np.empty((n_samples, 1))\n",
    "\n",
    "    # extract image information into x,y\n",
    "    for i in range(n_samples):\n",
    "        path = folder + file_names[i]\n",
    "        im = Image.open(path).convert('L')      # open image and convert to grayscale\n",
    "        im = im.resize((im_width,im_width))     # resize to pixel size desired\n",
    "        im_array = asarray(im)\n",
    "        x[i,:] = im_array.reshape(1,-1)\n",
    "        y[i,0] = classes[label]\n",
    "\n",
    "    return x,y"
   ]
  },
  {
   "cell_type": "markdown",
   "metadata": {},
   "source": [
    "### 2. Parameter Initialization and Training Data Preparation"
   ]
  },
  {
   "cell_type": "code",
   "execution_count": 37,
   "metadata": {},
   "outputs": [
    {
     "name": "stdout",
     "output_type": "stream",
     "text": [
      "<class 'str'>\n",
      "36\n"
     ]
    }
   ],
   "source": [
    "a = os.listdir(\"E:\\\\EDU UBC\\\\Assignments\\\\ENGR 418 (MCHL)\\\\Lego_dataset_1\\\\training\\\\\")\n",
    "print(type(a[0]))\n",
    "\n",
    "count = 0\n",
    "for i in a:\n",
    "    if \"2b1\" in i:\n",
    "        count += 1\n",
    "\n",
    "print(count)"
   ]
  },
  {
   "cell_type": "code",
   "execution_count": 2,
   "metadata": {},
   "outputs": [
    {
     "name": "stdout",
     "output_type": "stream",
     "text": [
      "[1, 2, 3]\n"
     ]
    },
    {
     "ename": "NameError",
     "evalue": "name 'classes' is not defined",
     "output_type": "error",
     "traceback": [
      "\u001b[1;31m---------------------------------------------------------------------------\u001b[0m",
      "\u001b[1;31mNameError\u001b[0m                                 Traceback (most recent call last)",
      "\u001b[1;32m~\\AppData\\Local\\Temp/ipykernel_27644/3933437102.py\u001b[0m in \u001b[0;36m<module>\u001b[1;34m\u001b[0m\n\u001b[0;32m      1\u001b[0m \u001b[0ma\u001b[0m \u001b[1;33m=\u001b[0m \u001b[1;33m[\u001b[0m\u001b[1;36m1\u001b[0m\u001b[1;33m,\u001b[0m\u001b[1;36m2\u001b[0m\u001b[1;33m,\u001b[0m\u001b[1;36m3\u001b[0m\u001b[1;33m]\u001b[0m\u001b[1;33m\u001b[0m\u001b[1;33m\u001b[0m\u001b[0m\n\u001b[0;32m      2\u001b[0m \u001b[0mprint\u001b[0m\u001b[1;33m(\u001b[0m\u001b[0ma\u001b[0m\u001b[1;33m)\u001b[0m\u001b[1;33m\u001b[0m\u001b[1;33m\u001b[0m\u001b[0m\n\u001b[1;32m----> 3\u001b[1;33m \u001b[0mn_classes\u001b[0m \u001b[1;33m=\u001b[0m \u001b[0mlen\u001b[0m\u001b[1;33m(\u001b[0m\u001b[0mclasses\u001b[0m\u001b[1;33m)\u001b[0m \u001b[1;31m# no. of classes\u001b[0m\u001b[1;33m\u001b[0m\u001b[1;33m\u001b[0m\u001b[0m\n\u001b[0m\u001b[0;32m      4\u001b[0m \u001b[0mim_width\u001b[0m \u001b[1;33m=\u001b[0m \u001b[1;36m64\u001b[0m   \u001b[1;31m# pixel size to be considered\u001b[0m\u001b[1;33m\u001b[0m\u001b[1;33m\u001b[0m\u001b[0m\n\u001b[0;32m      5\u001b[0m \u001b[1;33m\u001b[0m\u001b[0m\n",
      "\u001b[1;31mNameError\u001b[0m: name 'classes' is not defined"
     ]
    }
   ],
   "source": [
    "a = [1,2,3]\n",
    "print(a)\n",
    "p = [343434]\n",
    "n_classes = len(classes) # no. of classes\n",
    "im_width = 64   # pixel size to be considered\n",
    "\n",
    "\n"
   ]
  }
 ],
 "metadata": {
  "kernelspec": {
   "display_name": "base",
   "language": "python",
   "name": "python3"
  },
  "language_info": {
   "codemirror_mode": {
    "name": "ipython",
    "version": 3
   },
   "file_extension": ".py",
   "mimetype": "text/x-python",
   "name": "python",
   "nbconvert_exporter": "python",
   "pygments_lexer": "ipython3",
   "version": "3.9.7"
  }
 },
 "nbformat": 4,
 "nbformat_minor": 2
}
