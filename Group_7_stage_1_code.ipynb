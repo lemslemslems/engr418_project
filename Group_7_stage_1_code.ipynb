{
 "cells": [
  {
   "cell_type": "markdown",
   "metadata": {},
   "source": [
    "# <b>ENGR 418 Project Stage 1</b>\n",
    "\n",
    "<b>Group 7 <br>\n",
    "Group Members:</b> <br>\n",
    "Alif Aiman Ahmad Zukiman | 35338490 <br>\n",
    "Anas Chellabi | \n",
    "\n",
    "_October 30, 2023_"
   ]
  },
  {
   "cell_type": "markdown",
   "metadata": {},
   "source": [
    "## Problem Desription\n",
    "We are to classify a Lego dataset into four different classes: 2x4 rectangles, 2x2 squares, 2x2 circles, and 2x1 rectangles. The classified Legos are then sorted according to their predicted classes. This will be done via the multi-class classification algorithm, as presented below."
   ]
  },
  {
   "cell_type": "markdown",
   "metadata": {},
   "source": [
    "### 1. Extracting Data"
   ]
  },
  {
   "cell_type": "markdown",
   "metadata": {},
   "source": [
    "Import necessary libraries:"
   ]
  },
  {
   "cell_type": "code",
   "execution_count": 3,
   "metadata": {},
   "outputs": [],
   "source": [
    "import os                                                       # for recognising path directories\n",
    "import numpy as np  \n",
    "from numpy import asarray\n",
    "import matplotlib.pyplot as plt\n",
    "from sklearn.linear_model import LogisticRegression             # algorithm to be used\n",
    "from sklearn.metrics import confusion_matrix, accuracy_score    # accuracy testing\n",
    "from PIL import Image                                           # image processor"
   ]
  },
  {
   "cell_type": "markdown",
   "metadata": {},
   "source": [
    "Assign arrays of training and testing by redirecting the arrays to the specified paths:"
   ]
  },
  {
   "cell_type": "code",
   "execution_count": 12,
   "metadata": {},
   "outputs": [],
   "source": [
    "n_classes = 4   # no. of classes\n",
    "\n",
    "# create empty lists for four classes\n",
    "folder_training = [0 for i in range(n_classes)]\n",
    "folder_testing = [0 for i in range(n_classes)]\n",
    "classes = [i for i in range(n_classes)]\n",
    "\n",
    "training_path = \"Lego_dataset_1\\\\training\"\n",
    "testing_path = \"Lego\"\n",
    "\n",
    "# NEED FIX: the training folder does not divide into different classes\n",
    "# assign each folder rows into paths of each class\n",
    "for i in range(4):\n",
    "    folder_training[i] = \"Lego_dataset_1/training/\" + str(i) + '/'\n",
    "    folder_testing[i] = \"Lego_dataset_1/testing/\" + str(i) + '/'\n",
    "\n"
   ]
  },
  {
   "cell_type": "markdown",
   "metadata": {},
   "source": [
    "Define a function \"get_data\" to retrieve information about the chosen images:"
   ]
  },
  {
   "cell_type": "code",
   "execution_count": 13,
   "metadata": {},
   "outputs": [],
   "source": [
    "def get_data(folder, im_width, label, n_samples):\n",
    "    \n",
    "    file_names = os.listdir(folder)\n",
    "    # print(file_names[0])\n",
    "\n",
    "    # x,y coordinates for storing the image pixels\n",
    "    x = np.empty((n_samples, im_width**2))\n",
    "    y = np.empty((n_samples, 1))\n",
    "\n",
    "    # extract image information into x,y\n",
    "    for i in range(n_samples):\n",
    "        path = folder + file_names[i]\n",
    "        im = Image.open(path).convert('L')      # open image and convert to grayscale\n",
    "        im = im.resize((im_width,im_width))     # resize to pixel size desired\n",
    "        im_array = asarray(im)\n",
    "        x[i,:] = im_array.reshape(1,-1)\n",
    "        y[i,0] = classes[label]\n",
    "\n",
    "    return x,y"
   ]
  },
  {
   "cell_type": "markdown",
   "metadata": {},
   "source": [
    "### 2. Parameter Initialization and Training Data Preparation"
   ]
  },
  {
   "cell_type": "code",
   "execution_count": 37,
   "metadata": {},
   "outputs": [
    {
     "name": "stdout",
     "output_type": "stream",
     "text": [
      "<class 'str'>\n",
      "36\n"
     ]
    }
   ],
   "source": [
    "a = os.listdir(\"E:\\\\EDU UBC\\\\Assignments\\\\ENGR 418 (MCHL)\\\\Lego_dataset_1\\\\training\\\\\")\n",
    "print(type(a[0]))\n",
    "\n",
    "count = 0\n",
    "for i in a:\n",
    "    if \"2b1\" in i:\n",
    "        count += 1\n",
    "\n",
    "print(count)"
   ]
  },
  {
   "cell_type": "code",
   "execution_count": 16,
   "metadata": {},
   "outputs": [
    {
     "ename": "FileNotFoundError",
     "evalue": "[WinError 3] The system cannot find the path specified: 'Lego_dataset_1/training/0/'",
     "output_type": "error",
     "traceback": [
      "\u001b[1;31m---------------------------------------------------------------------------\u001b[0m",
      "\u001b[1;31mFileNotFoundError\u001b[0m                         Traceback (most recent call last)",
      "\u001b[1;32me:\\EDU UBC\\Assignments\\ENGR 418 (MCHL)\\ENGR 418 Github Repo\\engr418_project\\Group_7_stage_1_code.ipynb Cell 11\u001b[0m line \u001b[0;36m4\n\u001b[0;32m      <a href='vscode-notebook-cell:/e%3A/EDU%20UBC/Assignments/ENGR%20418%20%28MCHL%29/ENGR%20418%20Github%20Repo/engr418_project/Group_7_stage_1_code.ipynb#X20sZmlsZQ%3D%3D?line=0'>1</a>\u001b[0m n_classes \u001b[39m=\u001b[39m \u001b[39mlen\u001b[39m(classes) \u001b[39m# no. of classes\u001b[39;00m\n\u001b[0;32m      <a href='vscode-notebook-cell:/e%3A/EDU%20UBC/Assignments/ENGR%20418%20%28MCHL%29/ENGR%20418%20Github%20Repo/engr418_project/Group_7_stage_1_code.ipynb#X20sZmlsZQ%3D%3D?line=1'>2</a>\u001b[0m im_width \u001b[39m=\u001b[39m \u001b[39m64\u001b[39m   \u001b[39m# pixel size to be considered\u001b[39;00m\n\u001b[1;32m----> <a href='vscode-notebook-cell:/e%3A/EDU%20UBC/Assignments/ENGR%20418%20%28MCHL%29/ENGR%20418%20Github%20Repo/engr418_project/Group_7_stage_1_code.ipynb#X20sZmlsZQ%3D%3D?line=3'>4</a>\u001b[0m \u001b[39mprint\u001b[39m((os\u001b[39m.\u001b[39mlistdir(folder_training[\u001b[39m0\u001b[39m]))[\u001b[39m0\u001b[39m])\n",
      "\u001b[1;31mFileNotFoundError\u001b[0m: [WinError 3] The system cannot find the path specified: 'Lego_dataset_1/training/0/'"
     ]
    }
   ],
   "source": [
    "n_classes = len(classes) # no. of classes\n",
    "im_width = 64   # pixel size to be considered\n",
    "\n"
   ]
  }
 ],
 "metadata": {
  "kernelspec": {
   "display_name": "base",
   "language": "python",
   "name": "python3"
  },
  "language_info": {
   "codemirror_mode": {
    "name": "ipython",
    "version": 3
   },
   "file_extension": ".py",
   "mimetype": "text/x-python",
   "name": "python",
   "nbconvert_exporter": "python",
   "pygments_lexer": "ipython3",
   "version": "3.11.5"
  }
 },
 "nbformat": 4,
 "nbformat_minor": 2
}
