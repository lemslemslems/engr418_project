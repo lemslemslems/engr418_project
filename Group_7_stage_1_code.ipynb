{
 "cells": [
  {
   "cell_type": "markdown",
   "metadata": {},
   "source": [
    "# <b>ENGR 418 Project Stage 1</b>\n",
    "\n",
    "<b>Group 7 <br>\n",
    "Group Members:</b> <br>\n",
    "Alif Aiman Ahmad Zukiman | 35338490 <br>\n",
    "Anas Chellabi | \n",
    "\n",
    "_October 30, 2023_"
   ]
  },
  {
   "cell_type": "markdown",
   "metadata": {},
   "source": [
    "## Problem Desription\n",
    "We are to classify a Lego dataset into four different classes: 2x4 rectangles, 2x2 squares, 2x2 circles, and 2x1 rectangles. The classified Legos are then sorted according to their predicted classes. This will be done via the multi-class classification algorithm, as presented below."
   ]
  },
  {
   "cell_type": "markdown",
   "metadata": {},
   "source": [
    "### 1. Extracting Data"
   ]
  },
  {
   "cell_type": "markdown",
   "metadata": {},
   "source": [
    "Import necessary libraries:"
   ]
  },
  {
   "cell_type": "code",
   "execution_count": 3,
   "metadata": {},
   "outputs": [],
   "source": [
    "import os                                                       # for recognising path directories\n",
    "import numpy as np  \n",
    "from numpy import asarray\n",
    "import matplotlib.pyplot as plt\n",
    "from sklearn.linear_model import LogisticRegression             # algorithm to be used\n",
    "from sklearn.metrics import confusion_matrix, accuracy_score    # accuracy testing\n",
    "from PIL import Image                                           # image processor"
   ]
  },
  {
   "cell_type": "markdown",
   "metadata": {},
   "source": [
    "Assign arrays of training and testing by redirecting the arrays to the specified paths:"
   ]
  },
  {
   "cell_type": "code",
   "execution_count": 41,
   "metadata": {},
   "outputs": [
    {
     "name": "stdout",
     "output_type": "stream",
     "text": [
      "[['2b1_1.png', '2b1_10.png', '2b1_11.png', '2b1_12.png', '2b1_13.png', '2b1_14.png', '2b1_15.png', '2b1_16.png', '2b1_17.png', '2b1_18.png', '2b1_19.png', '2b1_2.png', '2b1_20.png', '2b1_21.png', '2b1_22.png', '2b1_23.png', '2b1_24.png', '2b1_25.png', '2b1_26.png', '2b1_27.png', '2b1_28.png', '2b1_29.png', '2b1_3.png', '2b1_30.png', '2b1_31.png', '2b1_32.png', '2b1_33.png', '2b1_34.png', '2b1_35.png', '2b1_36.png', '2b1_4.png', '2b1_5.png', '2b1_6.png', '2b1_7.png', '2b1_8.png', '2b1_9.png'], ['cir_1.png', 'cir_11.png', 'cir_12.png', 'cir_13.png', 'cir_14.png', 'cir_15.png', 'cir_16.png', 'cir_17.png', 'cir_18.png', 'cir_19.png', 'cir_2.png', 'cir_21.png', 'cir_22.png', 'cir_23.png', 'cir_24.png', 'cir_25.png', 'cir_26.png', 'cir_27.png', 'cir_28.png', 'cir_29.png', 'cir_3.png', 'cir_31.png', 'cir_32.png', 'cir_33.png', 'cir_34.png', 'cir_35.png', 'cir_36.png', 'cir_37.png', 'cir_38.png', 'cir_39.png', 'cir_4.png', 'cir_5.png', 'cir_6.png', 'cir_7.png', 'cir_8.png', 'cir_9.png'], ['rec_1.png', 'rec_11.png', 'rec_12.png', 'rec_13.png', 'rec_14.png', 'rec_15.png', 'rec_16.png', 'rec_17.png', 'rec_18.png', 'rec_19.png', 'rec_2.png', 'rec_21.png', 'rec_22.png', 'rec_23.png', 'rec_24.png', 'rec_25.png', 'rec_26.png', 'rec_27.png', 'rec_28.png', 'rec_29.png', 'rec_3.png', 'rec_31.png', 'rec_32.png', 'rec_33.png', 'rec_34.png', 'rec_35.png', 'rec_36.png', 'rec_37.png', 'rec_38.png', 'rec_39.png', 'rec_4.png', 'rec_5.png', 'rec_6.png', 'rec_7.png', 'rec_8.png', 'rec_9.png'], ['squ_1.png', 'squ_11.png', 'squ_12.png', 'squ_13.png', 'squ_14.png', 'squ_15.png', 'squ_16.png', 'squ_17.png', 'squ_18.png', 'squ_19.png', 'squ_2.png', 'squ_21.png', 'squ_22.png', 'squ_23.png', 'squ_24.png', 'squ_25.png', 'squ_26.png', 'squ_27.png', 'squ_28.png', 'squ_29.png', 'squ_3.png', 'squ_31.png', 'squ_32.png', 'squ_33.png', 'squ_34.png', 'squ_35.png', 'squ_36.png', 'squ_37.png', 'squ_38.png', 'squ_39.png', 'squ_4.png', 'squ_5.png', 'squ_6.png', 'squ_7.png', 'squ_8.png', 'squ_9.png']]\n"
     ]
    }
   ],
   "source": [
    "n_classes = 4   # no. of classes\n",
    "\n",
    "# create empty lists for four classes\n",
    "folder_training = [0 for i in range(n_classes)]\n",
    "folder_testing = [0 for i in range(n_classes)]\n",
    "classes = []\n",
    "\n",
    "# dataset file path for Alif\n",
    "training_path = \"E:\\\\EDU UBC\\\\Assignments\\\\ENGR 418 (MCHL)\\\\Lego_dataset_1\\\\training\\\\\" \n",
    "testing_path = \"E:\\\\EDU UBC\\\\Assignments\\\\ENGR 418 (MCHL)\\\\Lego_dataset_1\\\\testing\\\\\" \n",
    "\n",
    "# dataset file path for Anas\n",
    "# training_path = \"insert your path here\" \n",
    "# testing_path = \"insert your path here\"\n",
    "\n",
    "# detect how many files we have per class\n",
    "# class 0:\"2b1\", class 1:\"cir\", class 2:\"rec\", class 3:\"squ\"\n",
    "class_type = [\"2b1\", \"cir\", \"rec\", \"squ\"]\n",
    "for i in range(len(class_type)):\n",
    "\n",
    "    class_temp = [] # list to temporarily store class in consideration\n",
    "\n",
    "    # run through the entire training dataset and detect if it is of the same type as\n",
    "    # one we are considering. if true, then put into class_temp\n",
    "    for j in os.listdir(training_path):\n",
    "        if class_type[i] in j:\n",
    "            class_temp.append(j)\n",
    "    \n",
    "    classes.append(class_temp)\n",
    "\n",
    "# print(classes)\n"
   ]
  },
  {
   "cell_type": "markdown",
   "metadata": {},
   "source": [
    "Define a function \"get_data\" to retrieve information about the chosen images:"
   ]
  },
  {
   "cell_type": "code",
   "execution_count": 13,
   "metadata": {},
   "outputs": [],
   "source": [
    "def get_data(folder, im_width, label, n_samples):\n",
    "    \n",
    "    file_names = os.listdir(folder)\n",
    "    # print(file_names[0])\n",
    "\n",
    "    # x,y coordinates for storing the image pixels\n",
    "    x = np.empty((n_samples, im_width**2))\n",
    "    y = np.empty((n_samples, 1))\n",
    "\n",
    "    # extract image information into x,y\n",
    "    for i in range(n_samples):\n",
    "        path = folder + file_names[i]\n",
    "        im = Image.open(path).convert('L')      # open image and convert to grayscale\n",
    "        im = im.resize((im_width,im_width))     # resize to pixel size desired\n",
    "        im_array = asarray(im)\n",
    "        x[i,:] = im_array.reshape(1,-1)\n",
    "        y[i,0] = classes[label]\n",
    "\n",
    "    return x,y"
   ]
  },
  {
   "cell_type": "markdown",
   "metadata": {},
   "source": [
    "### 2. Parameter Initialization and Training Data Preparation"
   ]
  },
  {
   "cell_type": "code",
   "execution_count": 37,
   "metadata": {},
   "outputs": [
    {
     "name": "stdout",
     "output_type": "stream",
     "text": [
      "<class 'str'>\n",
      "36\n"
     ]
    }
   ],
   "source": [
    "a = os.listdir(\"E:\\\\EDU UBC\\\\Assignments\\\\ENGR 418 (MCHL)\\\\Lego_dataset_1\\\\training\\\\\")\n",
    "print(type(a[0]))\n",
    "\n",
    "count = 0\n",
    "for i in a:\n",
    "    if \"2b1\" in i:\n",
    "        count += 1\n",
    "\n",
    "print(count)"
   ]
  },
  {
   "cell_type": "code",
   "execution_count": 2,
   "metadata": {},
   "outputs": [
    {
     "name": "stdout",
     "output_type": "stream",
     "text": [
      "[1, 2, 3]\n"
     ]
    },
    {
     "ename": "NameError",
     "evalue": "name 'classes' is not defined",
     "output_type": "error",
     "traceback": [
      "\u001b[1;31m---------------------------------------------------------------------------\u001b[0m",
      "\u001b[1;31mNameError\u001b[0m                                 Traceback (most recent call last)",
      "\u001b[1;32m~\\AppData\\Local\\Temp/ipykernel_27644/3933437102.py\u001b[0m in \u001b[0;36m<module>\u001b[1;34m\u001b[0m\n\u001b[0;32m      1\u001b[0m \u001b[0ma\u001b[0m \u001b[1;33m=\u001b[0m \u001b[1;33m[\u001b[0m\u001b[1;36m1\u001b[0m\u001b[1;33m,\u001b[0m\u001b[1;36m2\u001b[0m\u001b[1;33m,\u001b[0m\u001b[1;36m3\u001b[0m\u001b[1;33m]\u001b[0m\u001b[1;33m\u001b[0m\u001b[1;33m\u001b[0m\u001b[0m\n\u001b[0;32m      2\u001b[0m \u001b[0mprint\u001b[0m\u001b[1;33m(\u001b[0m\u001b[0ma\u001b[0m\u001b[1;33m)\u001b[0m\u001b[1;33m\u001b[0m\u001b[1;33m\u001b[0m\u001b[0m\n\u001b[1;32m----> 3\u001b[1;33m \u001b[0mn_classes\u001b[0m \u001b[1;33m=\u001b[0m \u001b[0mlen\u001b[0m\u001b[1;33m(\u001b[0m\u001b[0mclasses\u001b[0m\u001b[1;33m)\u001b[0m \u001b[1;31m# no. of classes\u001b[0m\u001b[1;33m\u001b[0m\u001b[1;33m\u001b[0m\u001b[0m\n\u001b[0m\u001b[0;32m      4\u001b[0m \u001b[0mim_width\u001b[0m \u001b[1;33m=\u001b[0m \u001b[1;36m64\u001b[0m   \u001b[1;31m# pixel size to be considered\u001b[0m\u001b[1;33m\u001b[0m\u001b[1;33m\u001b[0m\u001b[0m\n\u001b[0;32m      5\u001b[0m \u001b[1;33m\u001b[0m\u001b[0m\n",
      "\u001b[1;31mNameError\u001b[0m: name 'classes' is not defined"
     ]
    }
   ],
   "source": [
    "a = [1,2,3]\n",
    "print(a)\n",
    "p = [343434]\n",
    "n_classes = len(classes) # no. of classes\n",
    "im_width = 64   # pixel size to be considered\n",
    "\n",
    "\n"
   ]
  }
 ],
 "metadata": {
  "kernelspec": {
   "display_name": "base",
   "language": "python",
   "name": "python3"
  },
  "language_info": {
   "codemirror_mode": {
    "name": "ipython",
    "version": 3
   },
   "file_extension": ".py",
   "mimetype": "text/x-python",
   "name": "python",
   "nbconvert_exporter": "python",
   "pygments_lexer": "ipython3",
   "version": "3.9.7"
  }
 },
 "nbformat": 4,
 "nbformat_minor": 2
}
