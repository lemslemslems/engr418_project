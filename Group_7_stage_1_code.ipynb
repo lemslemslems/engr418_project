{
 "cells": [
  {
   "cell_type": "markdown",
   "metadata": {},
   "source": [
    "# <b>ENGR 418 Project Stage 1</b>\n",
    "\n",
    "<b>Group 7 <br>\n",
    "Group Members:</b> <br>\n",
    "Alif Aiman Ahmad Zukiman | 35338490 <br>\n",
    "Anas Chellabi | 86925930\n",
    "\n",
    "_October 30, 2023_"
   ]
  },
  {
   "cell_type": "markdown",
   "metadata": {},
   "source": [
    "## Problem Description\n",
    "We are to classify a Lego dataset into four different classes: 2x4 rectangles, 2x2 squares, 2x2 circles, and 2x1 rectangles. The classified Legos are then sorted according to their predicted classes. This will be done via the multi-class classification algorithm, as presented below."
   ]
  },
  {
   "cell_type": "markdown",
   "metadata": {},
   "source": [
    "### 1. Extracting Data"
   ]
  },
  {
   "cell_type": "markdown",
   "metadata": {},
   "source": [
    "Import necessary libraries:"
   ]
  },
  {
   "cell_type": "code",
   "execution_count": 1,
   "metadata": {},
   "outputs": [],
   "source": [
    "import os                                                       # for recognising path directories\n",
    "import numpy as np  \n",
    "from numpy import asarray\n",
    "import matplotlib.pyplot as plt\n",
    "from sklearn.linear_model import LogisticRegression             # algorithm to be used\n",
    "from sklearn.metrics import confusion_matrix, accuracy_score    # accuracy testing\n",
    "from PIL import Image                                           # image processor\n",
    "import random                                        "
   ]
  },
  {
   "cell_type": "markdown",
   "metadata": {},
   "source": [
    "User-defined Paths:"
   ]
  },
  {
   "cell_type": "code",
   "execution_count": 2,
   "metadata": {},
   "outputs": [],
   "source": [
    "# dataset file path for Alif\n",
    "training_path = \"E:\\\\EDU UBC\\\\Assignments\\\\ENGR 418 (MCHL)\\\\Lego_dataset_1\\\\training\\\\\" \n",
    "testing_path = \"E:\\\\EDU UBC\\\\Assignments\\\\ENGR 418 (MCHL)\\\\Lego_dataset_1\\\\testing\\\\\"\n",
    "\n",
    "# dataset file path for Anas\n",
    "# training_path = \"e:\\\\418 dataset\\\\Lego_dataset_1\\\\training\\\\\" \n",
    "# testing_path = \"e:\\\\418 dataset\\\\Lego_dataset_1\\\\testing\\\\\""
   ]
  },
  {
   "cell_type": "markdown",
   "metadata": {},
   "source": [
    "Assign arrays of training and testing by redirecting the arrays to the specified paths:"
   ]
  },
  {
   "cell_type": "code",
   "execution_count": 3,
   "metadata": {},
   "outputs": [],
   "source": [
    "n_classes = 4   # no. of classes\n",
    "\n",
    "# create empty lists for four classes\n",
    "folder_training = []\n",
    "folder_testing = []\n",
    "\n",
    "\n",
    "# detect how many files we have per class\n",
    "# class 0:\"2b1\", class 1:\"cir\", class 2:\"rec\", class 3:\"squ\"\n",
    "classes = [i for i in range(n_classes)]\n",
    "class_type = [\"2b1\", \"cir\", \"rec\", \"squ\"]\n",
    "\n",
    "# routine for storing folder_training with paths for each image\n",
    "for i in range(len(class_type)):\n",
    "\n",
    "    class_temp = [] # list to temporarily store class in consideration\n",
    "\n",
    "    # run through the entire training dataset and detect if it is of the same type as\n",
    "    # one we are considering. if true, then put into class_temp\n",
    "    for j in os.listdir(training_path):\n",
    "        if class_type[i] in j:\n",
    "            class_temp.append(j)\n",
    "    \n",
    "    folder_training.append(class_temp)\n",
    "\n",
    "for i in range(len(folder_training)):\n",
    "    for j in range(len(folder_training[i])):\n",
    "        folder_elem = folder_training[i][j]\n",
    "        folder_training[i][j] = training_path + folder_elem\n",
    "\n",
    "# repeat above routine for folder_testing\n",
    "for i in range(len(class_type)):\n",
    "\n",
    "    class_temp = []\n",
    "\n",
    "    for j in os.listdir(testing_path):\n",
    "        if class_type[i] in j:\n",
    "            class_temp.append(j)\n",
    "            \n",
    "    folder_testing.append(class_temp)\n",
    "\n",
    "for i in range(len(folder_testing)):\n",
    "     for j in range(len(folder_testing[i])):\n",
    "         folder_elem = folder_testing[i][j]\n",
    "         folder_testing[i][j] = testing_path + folder_elem\n",
    "\n",
    "# print(folder_testing)\n",
    "# print(folder_training)\n"
   ]
  },
  {
   "cell_type": "markdown",
   "metadata": {},
   "source": [
    "Define a function \"get_data\" to retrieve information about the chosen images:"
   ]
  },
  {
   "cell_type": "code",
   "execution_count": 4,
   "metadata": {},
   "outputs": [],
   "source": [
    "def get_data(folder, im_width, label, n_samples):\n",
    "\n",
    "    # x,y coordinates for storing the image pixels\n",
    "    x = np.empty((n_samples, im_width**2))\n",
    "    y = np.empty((n_samples, 1))\n",
    "\n",
    "    # extract image information into x,y\n",
    "    for i in range(n_samples):\n",
    "        path = folder[i]\n",
    "        im = Image.open(path).convert('L')  # open image and convert to grayscale\n",
    "        im = im.resize((im_width,im_width)) # resize to pixel size desired\n",
    "        im_array = asarray(im)\n",
    "        x[i,:] = im_array.reshape(1,-1)\n",
    "        y[i,0] = classes[label]\n",
    "\n",
    "    return x,y"
   ]
  },
  {
   "cell_type": "markdown",
   "metadata": {},
   "source": [
    "### 2. Parameter Initialization and Training Data Preparation"
   ]
  },
  {
   "cell_type": "code",
   "execution_count": 5,
   "metadata": {},
   "outputs": [
    {
     "name": "stdout",
     "output_type": "stream",
     "text": [
      "(144, 4096) (144, 1)\n"
     ]
    }
   ],
   "source": [
    "im_width = 64   # pixel size to be considered\n",
    "P_per_class = [len(folder_training[i]) for i in range(n_classes)]\n",
    "x_train = np.empty((sum(P_per_class), im_width**2))\n",
    "y_train = np.empty((sum(P_per_class), 1))\n",
    "\n",
    "for i in range(n_classes):\n",
    "    x_i, y_i = get_data(folder_training[i], im_width, i, P_per_class[i])\n",
    "    x_train[i*P_per_class[i] : (i+1)*P_per_class[i],:] = x_i\n",
    "    y_train[i*P_per_class[i] : (i+1)*P_per_class[i],:] = y_i\n",
    "\n",
    "print(x_train.shape, y_train.shape)\n"
   ]
  },
  {
   "cell_type": "markdown",
   "metadata": {},
   "source": [
    "Check to see if the get_data function was working properly:"
   ]
  },
  {
   "cell_type": "code",
   "execution_count": 6,
   "metadata": {},
   "outputs": [
    {
     "data": {
      "image/png": "[encoded data removed]",
      "text/plain": [
       "<Figure size 640x480 with 1 Axes>"
      ]
     },
     "metadata": {},
     "output_type": "display_data"
    }
   ],
   "source": [
    "i_check = random.randrange(n_classes)\n",
    "j_check = random.randrange(P_per_class[i_check])\n",
    "res_check = 100\n",
    "\n",
    "x_check, y_check = get_data(folder_training[i_check], res_check, i_check, P_per_class[i_check])\n",
    "plt.imshow(x_check[j_check,:].reshape(res_check,res_check), cmap = 'gray')\n",
    "plt.show()"
   ]
  },
  {
   "cell_type": "markdown",
   "metadata": {},
   "source": [
    "### 3. Model Training"
   ]
  },
  {
   "cell_type": "code",
   "execution_count": 7,
   "metadata": {},
   "outputs": [
    {
     "data": {
      "text/html": [
       "<style>#sk-container-id-1 {color: black;}#sk-container-id-1 pre{padding: 0;}#sk-container-id-1 div.sk-toggleable {background-color: white;}#sk-container-id-1 label.sk-toggleable__label {cursor: pointer;display: block;width: 100%;margin-bottom: 0;padding: 0.3em;box-sizing: border-box;text-align: center;}#sk-container-id-1 label.sk-toggleable__label-arrow:before {content: \"▸\";float: left;margin-right: 0.25em;color: #696969;}#sk-container-id-1 label.sk-toggleable__label-arrow:hover:before {color: black;}#sk-container-id-1 div.sk-estimator:hover label.sk-toggleable__label-arrow:before {color: black;}#sk-container-id-1 div.sk-toggleable__content {max-height: 0;max-width: 0;overflow: hidden;text-align: left;background-color: #f0f8ff;}#sk-container-id-1 div.sk-toggleable__content pre {margin: 0.2em;color: black;border-radius: 0.25em;background-color: #f0f8ff;}#sk-container-id-1 input.sk-toggleable__control:checked~div.sk-toggleable__content {max-height: 200px;max-width: 100%;overflow: auto;}#sk-container-id-1 input.sk-toggleable__control:checked~label.sk-toggleable__label-arrow:before {content: \"▾\";}#sk-container-id-1 div.sk-estimator input.sk-toggleable__control:checked~label.sk-toggleable__label {background-color: #d4ebff;}#sk-container-id-1 div.sk-label input.sk-toggleable__control:checked~label.sk-toggleable__label {background-color: #d4ebff;}#sk-container-id-1 input.sk-hidden--visually {border: 0;clip: rect(1px 1px 1px 1px);clip: rect(1px, 1px, 1px, 1px);height: 1px;margin: -1px;overflow: hidden;padding: 0;position: absolute;width: 1px;}#sk-container-id-1 div.sk-estimator {font-family: monospace;background-color: #f0f8ff;border: 1px dotted black;border-radius: 0.25em;box-sizing: border-box;margin-bottom: 0.5em;}#sk-container-id-1 div.sk-estimator:hover {background-color: #d4ebff;}#sk-container-id-1 div.sk-parallel-item::after {content: \"\";width: 100%;border-bottom: 1px solid gray;flex-grow: 1;}#sk-container-id-1 div.sk-label:hover label.sk-toggleable__label {background-color: #d4ebff;}#sk-container-id-1 div.sk-serial::before {content: \"\";position: absolute;border-left: 1px solid gray;box-sizing: border-box;top: 0;bottom: 0;left: 50%;z-index: 0;}#sk-container-id-1 div.sk-serial {display: flex;flex-direction: column;align-items: center;background-color: white;padding-right: 0.2em;padding-left: 0.2em;position: relative;}#sk-container-id-1 div.sk-item {position: relative;z-index: 1;}#sk-container-id-1 div.sk-parallel {display: flex;align-items: stretch;justify-content: center;background-color: white;position: relative;}#sk-container-id-1 div.sk-item::before, #sk-container-id-1 div.sk-parallel-item::before {content: \"\";position: absolute;border-left: 1px solid gray;box-sizing: border-box;top: 0;bottom: 0;left: 50%;z-index: -1;}#sk-container-id-1 div.sk-parallel-item {display: flex;flex-direction: column;z-index: 1;position: relative;background-color: white;}#sk-container-id-1 div.sk-parallel-item:first-child::after {align-self: flex-end;width: 50%;}#sk-container-id-1 div.sk-parallel-item:last-child::after {align-self: flex-start;width: 50%;}#sk-container-id-1 div.sk-parallel-item:only-child::after {width: 0;}#sk-container-id-1 div.sk-dashed-wrapped {border: 1px dashed gray;margin: 0 0.4em 0.5em 0.4em;box-sizing: border-box;padding-bottom: 0.4em;background-color: white;}#sk-container-id-1 div.sk-label label {font-family: monospace;font-weight: bold;display: inline-block;line-height: 1.2em;}#sk-container-id-1 div.sk-label-container {text-align: center;}#sk-container-id-1 div.sk-container {/* jupyter's `normalize.less` sets `[hidden] { display: none; }` but bootstrap.min.css set `[hidden] { display: none !important; }` so we also need the `!important` here to be able to override the default hidden behavior on the sphinx rendered scikit-learn.org. See: https://github.com/scikit-learn/scikit-learn/issues/21755 */display: inline-block !important;position: relative;}#sk-container-id-1 div.sk-text-repr-fallback {display: none;}</style><div id=\"sk-container-id-1\" class=\"sk-top-container\"><div class=\"sk-text-repr-fallback\"><pre>LogisticRegression(max_iter=1000)</pre><b>In a Jupyter environment, please rerun this cell to show the HTML representation or trust the notebook. <br />On GitHub, the HTML representation is unable to render, please try loading this page with nbviewer.org.</b></div><div class=\"sk-container\" hidden><div class=\"sk-item\"><div class=\"sk-estimator sk-toggleable\"><input class=\"sk-toggleable__control sk-hidden--visually\" id=\"sk-estimator-id-1\" type=\"checkbox\" checked><label for=\"sk-estimator-id-1\" class=\"sk-toggleable__label sk-toggleable__label-arrow\">LogisticRegression</label><div class=\"sk-toggleable__content\"><pre>LogisticRegression(max_iter=1000)</pre></div></div></div></div></div>"
      ],
      "text/plain": [
       "LogisticRegression(max_iter=1000)"
      ]
     },
     "execution_count": 7,
     "metadata": {},
     "output_type": "execute_result"
    }
   ],
   "source": [
    "model = LogisticRegression(max_iter = 1000)\n",
    "model.fit(x_train,y_train.ravel())"
   ]
  },
  {
   "cell_type": "markdown",
   "metadata": {},
   "source": [
    "### 4. Model Testing"
   ]
  },
  {
   "cell_type": "markdown",
   "metadata": {},
   "source": [
    "Prepare data for testing:"
   ]
  },
  {
   "cell_type": "code",
   "execution_count": 8,
   "metadata": {},
   "outputs": [
    {
     "name": "stdout",
     "output_type": "stream",
     "text": [
      "(72, 4096) (72, 1)\n"
     ]
    }
   ],
   "source": [
    "P_per_class = [len(folder_testing[i]) for i in range(n_classes)]\n",
    "x_test = np.empty((sum(P_per_class), im_width**2))\n",
    "y_test = np.empty((sum(P_per_class), 1))\n",
    "\n",
    "\n",
    "for i in range(n_classes):\n",
    "    x_i, y_i = get_data(folder_testing[i], im_width, i, P_per_class[i])\n",
    "    x_test[i*P_per_class[i]:(i+1)*P_per_class[i],:] = x_i\n",
    "    y_test[i*P_per_class[i]:(i+1)*P_per_class[i],:] = y_i\n",
    "\n",
    "print(x_test.shape,y_test.shape)\n"
   ]
  },
  {
   "cell_type": "markdown",
   "metadata": {},
   "source": [
    "Test model and print the corresponding accuracy and confusion matrix:"
   ]
  },
  {
   "cell_type": "code",
   "execution_count": 9,
   "metadata": {},
   "outputs": [
    {
     "name": "stdout",
     "output_type": "stream",
     "text": [
      "Accuracy score: 0.931\n",
      "Confusion matrix: \n",
      "[[18  0  0  0]\n",
      " [ 0 16  0  2]\n",
      " [ 0  0 16  2]\n",
      " [ 0  1  0 17]]\n"
     ]
    }
   ],
   "source": [
    "y_pred = model.predict(x_test)\n",
    "\n",
    "# displays the accuracy score and confusion matrix for the testing data\n",
    "print(f\"Accuracy score: {accuracy_score(y_test,y_pred):.3f}\")\n",
    "print(f\"Confusion matrix: \\n{confusion_matrix(y_test,y_pred)}\")"
   ]
  },
  {
   "cell_type": "markdown",
   "metadata": {},
   "source": [
    "Define function \"test_function\":"
   ]
  },
  {
   "cell_type": "code",
   "execution_count": 27,
   "metadata": {},
   "outputs": [],
   "source": [
    "def test_function(path):\n",
    "\n",
    "    # store array of directories to each image sorted to their defined classes in the path\n",
    "    folder_path = []\n",
    "\n",
    "    for i in range(len(class_type)):\n",
    "\n",
    "        class_temp = []\n",
    "\n",
    "        for j in os.listdir(path):\n",
    "            if class_type[i] in j:\n",
    "                class_temp.append(j)\n",
    "                \n",
    "        folder_path.append(class_temp)\n",
    "\n",
    "    for i in range(len(folder_path)):\n",
    "        for j in range(len(folder_path[i])):\n",
    "            folder_elem = folder_path[i][j]\n",
    "            folder_path[i][j] = path + folder_elem\n",
    "\n",
    "    # prepare data for testing\n",
    "    P_per_class = [len(folder_path[i]) for i in range(n_classes)]\n",
    "    x_test = np.empty((sum(P_per_class), im_width**2))\n",
    "    y_test = np.empty((sum(P_per_class), 1))\n",
    "\n",
    "    for i in range(n_classes):\n",
    "        x_i, y_i = get_data(folder_path[i], im_width, i, P_per_class[i])\n",
    "        x_test[i*P_per_class[i]:(i+1)*P_per_class[i],:] = x_i\n",
    "        y_test[i*P_per_class[i]:(i+1)*P_per_class[i],:] = y_i\n",
    "\n",
    "    # test model\n",
    "    y_pred = model.predict(x_test)\n",
    "    print(f\"Accuracy score: {accuracy_score(y_test,y_pred):.3f}\")\n",
    "    print(f\"Confusion matrix: \\n{confusion_matrix(y_test,y_pred)}\")\n",
    "\n",
    "    "
   ]
  },
  {
   "cell_type": "markdown",
   "metadata": {},
   "source": [
    "The testing algorithm is now ready to be used for variable paths:"
   ]
  },
  {
   "cell_type": "code",
   "execution_count": 28,
   "metadata": {},
   "outputs": [
    {
     "name": "stdout",
     "output_type": "stream",
     "text": [
      "Accuracy score: 0.931\n",
      "Confusion matrix: \n",
      "[[18  0  0  0]\n",
      " [ 0 16  0  2]\n",
      " [ 0  0 16  2]\n",
      " [ 0  1  0 17]]\n"
     ]
    }
   ],
   "source": [
    "path = testing_path\n",
    "test_function(path)"
   ]
  },
  {
   "cell_type": "markdown",
   "metadata": {},
   "source": [
    "halluio"
   ]
  }
 ],
 "metadata": {
  "kernelspec": {
   "display_name": "base",
   "language": "python",
   "name": "python3"
  },
  "language_info": {
   "codemirror_mode": {
    "name": "ipython",
    "version": 3
   },
   "file_extension": ".py",
   "mimetype": "text/x-python",
   "name": "python",
   "nbconvert_exporter": "python",
   "pygments_lexer": "ipython3",
   "version": "3.11.5"
  }
 },
 "nbformat": 4,
 "nbformat_minor": 2
}
