{
 "cells": [
  {
   "cell_type": "markdown",
   "metadata": {},
   "source": [
    "<font size = \"+3\"><center><b>The University of British Columbia Okanagan</b></font><br>\n",
    "Faculty of Applied Science, School of Engineering\n",
    "\n",
    "<br>\n",
    "<font size = \"+2\"><b>ENGR 418</font><br>\n",
    "Applied Machine Learning for Engineers <br>\n",
    "Dr. Anas Chaaban <br></b>\n",
    "\n",
    "<br>\n",
    "<font size = \"+2\"><b>Project Stage 1</b><br></font>\n",
    "October 30, 2023 <br>\n",
    "\n",
    "<br>\n",
    "<b>Group Members:</b> <br>\n",
    "Alif Aiman Ahmad Zukiman | 35338490 <br>\n",
    "Anas Chellabi | "
   ]
  },
  {
   "cell_type": "code",
   "execution_count": 2,
   "metadata": {},
   "outputs": [
    {
     "name": "stdout",
     "output_type": "stream",
     "text": [
      "[[1 4]\n",
      " [2 5]\n",
      " [3 6]]\n"
     ]
    },
    {
     "ename": "AttributeError",
     "evalue": "'NoneType' object has no attribute 'sdhaiksd'",
     "output_type": "error",
     "traceback": [
      "\u001b[1;31m---------------------------------------------------------------------------\u001b[0m",
      "\u001b[1;31mAttributeError\u001b[0m                            Traceback (most recent call last)",
      "\u001b[1;32me:\\EDU UBC\\Assignments\\ENGR 418 (MCHL)\\ENGR 418 Github Repo\\engr418_project\\Group_7_stage_1_code.ipynb Cell 2\u001b[0m line \u001b[0;36m9\n\u001b[0;32m      <a href='vscode-notebook-cell:/e%3A/EDU%20UBC/Assignments/ENGR%20418%20%28MCHL%29/ENGR%20418%20Github%20Repo/engr418_project/Group_7_stage_1_code.ipynb#W1sZmlsZQ%3D%3D?line=5'>6</a>\u001b[0m b \u001b[39m=\u001b[39m [\u001b[39m4\u001b[39m,\u001b[39m5\u001b[39m,\u001b[39m6\u001b[39m]\n\u001b[0;32m      <a href='vscode-notebook-cell:/e%3A/EDU%20UBC/Assignments/ENGR%20418%20%28MCHL%29/ENGR%20418%20Github%20Repo/engr418_project/Group_7_stage_1_code.ipynb#W1sZmlsZQ%3D%3D?line=7'>8</a>\u001b[0m c \u001b[39m=\u001b[39m np\u001b[39m.\u001b[39marray([a,b])\u001b[39m.\u001b[39mT\n\u001b[1;32m----> <a href='vscode-notebook-cell:/e%3A/EDU%20UBC/Assignments/ENGR%20418%20%28MCHL%29/ENGR%20418%20Github%20Repo/engr418_project/Group_7_stage_1_code.ipynb#W1sZmlsZQ%3D%3D?line=8'>9</a>\u001b[0m \u001b[39mprint\u001b[39m(c)\u001b[39m.\u001b[39msdhaiksd\n\u001b[0;32m     <a href='vscode-notebook-cell:/e%3A/EDU%20UBC/Assignments/ENGR%20418%20%28MCHL%29/ENGR%20418%20Github%20Repo/engr418_project/Group_7_stage_1_code.ipynb#W1sZmlsZQ%3D%3D?line=10'>11</a>\u001b[0m \u001b[39m# test test test\u001b[39;00m\n\u001b[0;32m     <a href='vscode-notebook-cell:/e%3A/EDU%20UBC/Assignments/ENGR%20418%20%28MCHL%29/ENGR%20418%20Github%20Repo/engr418_project/Group_7_stage_1_code.ipynb#W1sZmlsZQ%3D%3D?line=11'>12</a>\u001b[0m grav_accel \u001b[39m=\u001b[39m \u001b[39m9.81\u001b[39m\n",
      "\u001b[1;31mAttributeError\u001b[0m: 'NoneType' object has no attribute 'sdhaiksd'"
     ]
    }
   ],
   "source": [
    "# test\n",
    "\n",
    "import numpy as np\n",
    "\n",
    "a = [1,2,3]\n",
    "b = [4,5,6]\n",
    "\n",
    "c = np.array([a,b]).T\n",
    "print(c)\n",
    "\n",
    "# test test test\n",
    "grav_accel = 9.81\n"
   ]
  }
 ],
 "metadata": {
  "kernelspec": {
   "display_name": "base",
   "language": "python",
   "name": "python3"
  },
  "language_info": {
   "codemirror_mode": {
    "name": "ipython",
    "version": 3
   },
   "file_extension": ".py",
   "mimetype": "text/x-python",
   "name": "python",
   "nbconvert_exporter": "python",
   "pygments_lexer": "ipython3",
   "version": "3.11.5"
  }
 },
 "nbformat": 4,
 "nbformat_minor": 2
}
